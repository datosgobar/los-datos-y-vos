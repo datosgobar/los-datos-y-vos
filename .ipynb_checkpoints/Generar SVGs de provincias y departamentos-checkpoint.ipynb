{
 "cells": [
  {
   "cell_type": "code",
   "execution_count": 4,
   "metadata": {
    "collapsed": false
   },
   "outputs": [
    {
     "name": "stderr",
     "output_type": "stream",
     "text": [
      "/Users/abenassi/anaconda/lib/python2.7/site-packages/matplotlib/font_manager.py:273: UserWarning: Matplotlib is building the font cache using fc-list. This may take a moment.\n",
      "  warnings.warn('Matplotlib is building the font cache using fc-list. This may take a moment.')\n"
     ]
    }
   ],
   "source": [
    "from __future__ import unicode_literals, print_function\n",
    "%matplotlib inline\n",
    "import geopandas as gpd\n",
    "import svgis\n",
    "from IPython.display import SVG, display, display_svg\n",
    "import os"
   ]
  },
  {
   "cell_type": "code",
   "execution_count": 5,
   "metadata": {
    "collapsed": true
   },
   "outputs": [],
   "source": [
    "def show_svg(filename):\n",
    "    return SVG(filename=filename)"
   ]
  },
  {
   "cell_type": "code",
   "execution_count": 6,
   "metadata": {
    "collapsed": false
   },
   "outputs": [],
   "source": [
    "def geometries_to_svg(shp_path, shps_dir, svgs_dir, \n",
    "                      id_field=\"link\", geometry_field=\"geometry\"):\n",
    "    df = gpd.read_file(shp_path, encoding=\"utf8\")\n",
    "\n",
    "    # separa el shp en un shp y un svg para cada figura\n",
    "    for i in xrange(len(df)):\n",
    "        msg = \"Procesando la figura {}, de, {}\".format(i + 1, len(df))\n",
    "        print(msg, end=\"\\r\"*len(msg))\n",
    "        \n",
    "        # crea el shp individual\n",
    "        file_name_shp = df.loc[i, id_field] + \".shp\"\n",
    "        file_path_shp = os.path.join(shps_dir, file_name_shp)\n",
    "        df.geometry[i:i+1].to_file(file_path_shp)\n",
    "        \n",
    "        # crea el svg individual\n",
    "        svg = svgis.SVGIS(file_path_shp)\n",
    "        file_name_svg = df.loc[i, id_field] + \".svg\"\n",
    "        file_path_svg = os.path.join(svgs_dir, file_name_svg)\n",
    "        with open(file_path_svg, \"wb\") as f:\n",
    "            f.write(svg.compose())"
   ]
  },
  {
   "cell_type": "code",
   "execution_count": 7,
   "metadata": {
    "collapsed": false
   },
   "outputs": [
    {
     "name": "stdout",
     "output_type": "stream",
     "text": []
    }
   ],
   "source": [
    "geometries_to_svg(\n",
    "    shp_path=\"data/provincias/pxprovdatos.shp\",\n",
    "    shps_dir=\"data/provincias/shp\", svgs_dir=\"data/provincias/svg\"\n",
    ")"
   ]
  },
  {
   "cell_type": "code",
   "execution_count": 10,
   "metadata": {
    "collapsed": false
   },
   "outputs": [
    {
     "name": "stdout",
     "output_type": "stream",
     "text": []
    }
   ],
   "source": [
    "geometries_to_svg(\n",
    "    shp_path=\"data/departamentos/pxdptodatos.shp\",\n",
    "    shps_dir=\"data/departamentos/shp\", svgs_dir=\"data/departamentos/svg\"\n",
    ")"
   ]
  },
  {
   "cell_type": "code",
   "execution_count": null,
   "metadata": {
    "collapsed": true
   },
   "outputs": [],
   "source": []
  }
 ],
 "metadata": {
  "anaconda-cloud": {},
  "kernelspec": {
   "display_name": "Python [Root]",
   "language": "python",
   "name": "Python [Root]"
  },
  "language_info": {
   "codemirror_mode": {
    "name": "ipython",
    "version": 2
   },
   "file_extension": ".py",
   "mimetype": "text/x-python",
   "name": "python",
   "nbconvert_exporter": "python",
   "pygments_lexer": "ipython2",
   "version": "2.7.12"
  }
 },
 "nbformat": 4,
 "nbformat_minor": 0
}
