{
 "cells": [
  {
   "cell_type": "markdown",
   "metadata": {},
   "source": [
    "# Genero indicadores censales para la app"
   ]
  },
  {
   "cell_type": "code",
   "execution_count": 2,
   "metadata": {
    "collapsed": false
   },
   "outputs": [],
   "source": [
    "from __future__ import unicode_literals\n",
    "import pyredatam\n",
    "import pandas as pd\n",
    "import os\n",
    "import hashlib"
   ]
  },
  {
   "cell_type": "code",
   "execution_count": 19,
   "metadata": {
    "collapsed": false
   },
   "outputs": [],
   "source": [
    "df = pd.read_csv(\"data/barrios.csv\")"
   ]
  },
  {
   "cell_type": "code",
   "execution_count": 20,
   "metadata": {
    "collapsed": false
   },
   "outputs": [],
   "source": [
    "df.loc[50, \"barrio_nombre\"] = \"Nuñez\""
   ]
  },
  {
   "cell_type": "code",
   "execution_count": null,
   "metadata": {
    "collapsed": true
   },
   "outputs": [],
   "source": [
    "df.rename(columns={\"BARRIO\": \"barrio_nombre\", \"COMUNA\": \"comuna_id\"}, in)"
   ]
  },
  {
   "cell_type": "code",
   "execution_count": 18,
   "metadata": {
    "collapsed": false
   },
   "outputs": [],
   "source": [
    "df[[\"BARRIO\", \"COMUNA\"]].to_csv(\"data/barrios.csv\", index=False)"
   ]
  },
  {
   "cell_type": "code",
   "execution_count": 239,
   "metadata": {
    "collapsed": true
   },
   "outputs": [],
   "source": [
    "filtro_jovenes = \"PERSONA.P03 >= 15 AND PERSONA.P03 <= 18\""
   ]
  },
  {
   "cell_type": "code",
   "execution_count": 240,
   "metadata": {
    "collapsed": true
   },
   "outputs": [],
   "source": [
    "def get_data(area_list_query):\n",
    "    hash_query = hashlib.md5(area_list_query).hexdigest()\n",
    "    file_name = hash_query + \".csv\"\n",
    "    file_path = \"data/{}\".format(file_name)\n",
    "\n",
    "    if unicode(file_name) in os.listdir(\"data\"):\n",
    "        df = pd.read_csv(file_path, encoding=\"utf8\", dtype={\"Código\": str})\n",
    "    \n",
    "    else:\n",
    "        df = pyredatam.cpv2010arg.make_arealist_query(area_list_query)\n",
    "        df[\"Código\"] = df[\"Código\"].astype(str)\n",
    "        df.to_csv(file_path, encoding=\"utf8\", index=False)\n",
    "\n",
    "    return df.set_index(\"Código\")"
   ]
  },
  {
   "cell_type": "code",
   "execution_count": 241,
   "metadata": {
    "collapsed": false
   },
   "outputs": [],
   "source": [
    "provincias = pd.read_excel(\"data/Unidades geoestadisticas Censo 2010.xls\", sheetname=\"provincias\", \n",
    "                           converters={\"codigo\": lambda x: str(x).zfill(2)},\n",
    "                           names=[\"codigo\", \"provincia_nombre\"]).set_index(\"codigo\")"
   ]
  },
  {
   "cell_type": "code",
   "execution_count": 242,
   "metadata": {
    "collapsed": false
   },
   "outputs": [],
   "source": [
    "unidades = pd.read_excel(\"data/Unidades geoestadisticas Censo 2010.xls\", sheetname=\"unidades\", \n",
    "                           converters={\"cod_provincia\": lambda x: str(x).zfill(2)})"
   ]
  },
  {
   "cell_type": "code",
   "execution_count": 243,
   "metadata": {
    "collapsed": true
   },
   "outputs": [],
   "source": [
    "unidades.rename(columns={\"departamento\": \"departamento_nombre\"}, inplace=True)"
   ]
  },
  {
   "cell_type": "code",
   "execution_count": 244,
   "metadata": {
    "collapsed": false
   },
   "outputs": [],
   "source": [
    "unidades[\"departamento_id\"] = unidades.apply(\n",
    "    lambda x: str(x[\"cod_provincia\"]).zfill(2) + str(x[\"cod_departamento\"]).zfill(3), axis=1)"
   ]
  },
  {
   "cell_type": "code",
   "execution_count": 245,
   "metadata": {
    "collapsed": true
   },
   "outputs": [],
   "source": [
    "departamentos = unidades[[\"departamento_id\", \"departamento_nombre\"]].set_index(\"departamento_id\")"
   ]
  },
  {
   "cell_type": "markdown",
   "metadata": {},
   "source": [
    "## Bloque 1"
   ]
  },
  {
   "cell_type": "markdown",
   "metadata": {},
   "source": [
    "### Por departamento/comuna"
   ]
  },
  {
   "cell_type": "markdown",
   "metadata": {},
   "source": [
    "¿Qué porcentaje de chicos de 15 a 18 años pensás que vive en tu comuna? ¿Y en la Ciudad de Buenos Aires?"
   ]
  },
  {
   "cell_type": "code",
   "execution_count": 246,
   "metadata": {
    "collapsed": false
   },
   "outputs": [],
   "source": [
    "# cantidad de población total, por género\n",
    "query_pobl_depto = pyredatam.arealist_query(\"DPTO\", \"PERSONA.P02\")\n",
    "df_pobl_depto = get_data(query_pobl_depto)"
   ]
  },
  {
   "cell_type": "code",
   "execution_count": 247,
   "metadata": {
    "collapsed": false
   },
   "outputs": [],
   "source": [
    "# cantidad de población entre 15 y 18 años, por género\n",
    "query_pobl_joven_depto = pyredatam.arealist_query(\n",
    "    \"DPTO\", \"PERSONA.P02\", universe_filter=filtro_jovenes)\n",
    "df_pobl_joven_depto = get_data(query_pobl_joven_depto)"
   ]
  },
  {
   "cell_type": "code",
   "execution_count": 248,
   "metadata": {
    "collapsed": false
   },
   "outputs": [],
   "source": [
    "df_depto = pd.DataFrame(index=df_pobl_depto.index)\n",
    "df_depto[\"jovenes\"] = df_pobl_joven_depto[\"Total\"] / df_pobl_depto[\"Total\"]"
   ]
  },
  {
   "cell_type": "markdown",
   "metadata": {},
   "source": [
    "¿Qué porcentaje de chicos de 15 a 18 años pensás que asisten a la escuela en tu comuna? ¿Y en la Ciudad de Buenos Aires?"
   ]
  },
  {
   "cell_type": "code",
   "execution_count": 249,
   "metadata": {
    "collapsed": false
   },
   "outputs": [],
   "source": [
    "# cantidad de población entre 15 y 18 años, por asistencia escolar\n",
    "query_asiste_joven_depto = pyredatam.arealist_query(\"DPTO\", \"PERSONA.P08\", universe_filter=filtro_jovenes)\n",
    "df_asiste_joven_depto = get_data(query_asiste_joven_depto)"
   ]
  },
  {
   "cell_type": "code",
   "execution_count": 250,
   "metadata": {
    "collapsed": true
   },
   "outputs": [],
   "source": [
    "df_depto[\"jovenes_asistencia\"] = df_asiste_joven_depto[\"Asiste\"] / df_pobl_joven_depto[\"Total\"]"
   ]
  },
  {
   "cell_type": "markdown",
   "metadata": {},
   "source": [
    "### Por provincia/ciudad"
   ]
  },
  {
   "cell_type": "markdown",
   "metadata": {},
   "source": [
    "¿Qué porcentaje de chicos de 15 a 18 años pensás que vive en tu comuna? ¿Y en la Ciudad de Buenos Aires?"
   ]
  },
  {
   "cell_type": "code",
   "execution_count": 251,
   "metadata": {
    "collapsed": true
   },
   "outputs": [],
   "source": [
    "# cantidad de población total, por género\n",
    "query_pobl_prov = pyredatam.arealist_query(\"PROV\", \"PERSONA.P02\")\n",
    "df_pobl_prov = get_data(query_pobl_prov)"
   ]
  },
  {
   "cell_type": "code",
   "execution_count": 252,
   "metadata": {
    "collapsed": false
   },
   "outputs": [],
   "source": [
    "# cantidad de población entre 15 y 18 años, por género\n",
    "query_pobl_joven_prov = pyredatam.arealist_query(\n",
    "    \"PROV\", \"PERSONA.P02\", universe_filter=filtro_jovenes)\n",
    "df_pobl_joven_prov = get_data(query_pobl_joven_prov)"
   ]
  },
  {
   "cell_type": "code",
   "execution_count": 253,
   "metadata": {
    "collapsed": false
   },
   "outputs": [],
   "source": [
    "df_prov = pd.DataFrame(index=df_pobl_prov.index)\n",
    "df_prov[\"jovenes\"] = df_pobl_joven_prov[\"Total\"] / df_pobl_prov[\"Total\"]"
   ]
  },
  {
   "cell_type": "markdown",
   "metadata": {},
   "source": [
    "¿Qué porcentaje de chicos de 15 a 18 años pensás que asisten a la escuela en tu comuna? ¿Y en la Ciudad de Buenos Aires?"
   ]
  },
  {
   "cell_type": "code",
   "execution_count": 254,
   "metadata": {
    "collapsed": false
   },
   "outputs": [],
   "source": [
    "# cantidad de población entre 15 y 18 años, por asistencia escolar\n",
    "query_asiste_joven_prov = pyredatam.arealist_query(\"PROV\", \"PERSONA.P08\", universe_filter=filtro_jovenes)\n",
    "df_asiste_joven_prov = get_data(query_asiste_joven_prov)"
   ]
  },
  {
   "cell_type": "code",
   "execution_count": 255,
   "metadata": {
    "collapsed": true
   },
   "outputs": [],
   "source": [
    "df_prov[\"jovenes_asistencia\"] = df_asiste_joven_prov[\"Asiste\"] / df_pobl_joven_prov[\"Total\"]"
   ]
  },
  {
   "cell_type": "markdown",
   "metadata": {},
   "source": [
    "## Bloque 2"
   ]
  },
  {
   "cell_type": "markdown",
   "metadata": {},
   "source": [
    "### Por departamento/comuna"
   ]
  },
  {
   "cell_type": "markdown",
   "metadata": {},
   "source": [
    "¿Cuántas personas duermen por cuarto en tu casa? ¿Cuántas personas creés que duermen por cuarto, en promedio, en tu comuna? ¿Y en la Ciudad de Buenos Aires?"
   ]
  },
  {
   "cell_type": "code",
   "execution_count": 256,
   "metadata": {
    "collapsed": true
   },
   "outputs": [],
   "source": [
    "query = \"\"\"\n",
    "RUNDEF Job\n",
    "\n",
    "DEFINE HOGAR.TOTPERS2\n",
    "AS COUNT PERSONA\n",
    "TYPE REAL\n",
    "RANGE 0-200\n",
    "VARLABEL \"Cantidad de personas por hogar\"\n",
    "DECIMALS 2\n",
    "\n",
    "DEFINE HOGAR.INDHAC2\n",
    "AS (HOGAR.TOTPERS2 / HOGAR.H15)\n",
    "TYPE REAL\n",
    "RANGE 0-200\n",
    "VARLABEL \"Indice de hacinamiento\"\n",
    "DECIMALS 2\n",
    "\n",
    "TABLE TABLE1\n",
    "    AS AREALIST\n",
    "    OF DPTO, HOGAR.INDHAC2\n",
    "\"\"\""
   ]
  },
  {
   "cell_type": "code",
   "execution_count": 257,
   "metadata": {
    "collapsed": true
   },
   "outputs": [],
   "source": [
    "# habitaciones\n",
    "query_habs_depto = pyredatam.arealist_query(\"DPTO\", \"HOGAR.H15\")\n",
    "df_habs_depto = get_data(query_habs_depto)"
   ]
  },
  {
   "cell_type": "code",
   "execution_count": 258,
   "metadata": {
    "collapsed": true
   },
   "outputs": [],
   "source": [
    "# personas x hogar\n",
    "query_pers_hogar_depto = pyredatam.arealist_query(\"DPTO\", \"HOGAR.TOTPERS\")\n",
    "df_pers_hogar_depto = get_data(query_pers_hogar_depto)"
   ]
  },
  {
   "cell_type": "code",
   "execution_count": 259,
   "metadata": {
    "collapsed": false
   },
   "outputs": [],
   "source": [
    "df_habs_depto_mul = df_habs_depto[df_habs_depto.columns[:-1]]"
   ]
  },
  {
   "cell_type": "code",
   "execution_count": 260,
   "metadata": {
    "collapsed": false
   },
   "outputs": [
    {
     "name": "stderr",
     "output_type": "stream",
     "text": [
      "/Users/abenassi/anaconda/envs/pyredatam/lib/python2.7/site-packages/ipykernel/__main__.py:2: SettingWithCopyWarning: \n",
      "A value is trying to be set on a copy of a slice from a DataFrame.\n",
      "Try using .loc[row_indexer,col_indexer] = value instead\n",
      "\n",
      "See the caveats in the documentation: http://pandas.pydata.org/pandas-docs/stable/indexing.html#indexing-view-versus-copy\n",
      "  from ipykernel import kernelapp as app\n"
     ]
    }
   ],
   "source": [
    "for i in range(1, 31):\n",
    "    df_habs_depto_mul[unicode(i)] = df_habs_depto_mul[unicode(i)] * i"
   ]
  },
  {
   "cell_type": "code",
   "execution_count": 261,
   "metadata": {
    "collapsed": false
   },
   "outputs": [],
   "source": [
    "cant_cuartos = df_habs_depto_mul.sum(axis=1)"
   ]
  },
  {
   "cell_type": "code",
   "execution_count": 262,
   "metadata": {
    "collapsed": true
   },
   "outputs": [],
   "source": [
    "cant_personas = df_pobl_depto.Total"
   ]
  },
  {
   "cell_type": "code",
   "execution_count": 263,
   "metadata": {
    "collapsed": false
   },
   "outputs": [],
   "source": [
    "indhac2 = cant_personas / cant_cuartos"
   ]
  },
  {
   "cell_type": "code",
   "execution_count": 264,
   "metadata": {
    "collapsed": false
   },
   "outputs": [],
   "source": [
    "# hacinamiento\n",
    "query_hac_depto = pyredatam.arealist_query(\"DPTO\", \"HOGAR.INDHAC\")\n",
    "df_hac_depto = get_data(query_hac_depto)"
   ]
  },
  {
   "cell_type": "code",
   "execution_count": 265,
   "metadata": {
    "collapsed": true
   },
   "outputs": [],
   "source": [
    "df_hac_depto2 = df_hac_depto[df_hac_depto.columns[:-1]]"
   ]
  },
  {
   "cell_type": "code",
   "execution_count": 266,
   "metadata": {
    "collapsed": false
   },
   "outputs": [
    {
     "name": "stderr",
     "output_type": "stream",
     "text": [
      "/Users/abenassi/anaconda/envs/pyredatam/lib/python2.7/site-packages/ipykernel/__main__.py:2: SettingWithCopyWarning: \n",
      "A value is trying to be set on a copy of a slice from a DataFrame.\n",
      "Try using .loc[row_indexer,col_indexer] = value instead\n",
      "\n",
      "See the caveats in the documentation: http://pandas.pydata.org/pandas-docs/stable/indexing.html#indexing-view-versus-copy\n",
      "  from ipykernel import kernelapp as app\n"
     ]
    }
   ],
   "source": [
    "for i, j in zip(range(0, 6), [0.25, 0.75, 1.25, 1.75, 2.5, 4.0]):\n",
    "    df_hac_depto2[df_hac_depto2.columns[i]] = df_hac_depto2[df_hac_depto2.columns[i]] * j"
   ]
  },
  {
   "cell_type": "code",
   "execution_count": 267,
   "metadata": {
    "collapsed": false
   },
   "outputs": [],
   "source": [
    "indhac3 = df_hac_depto2.sum(axis=1) / df_hac_depto.Total"
   ]
  },
  {
   "cell_type": "code",
   "execution_count": 268,
   "metadata": {
    "collapsed": true
   },
   "outputs": [],
   "source": [
    "df_indhacs = pd.DataFrame({\"indhac2\": indhac2, \"indhac3\": indhac3})"
   ]
  },
  {
   "cell_type": "code",
   "execution_count": 269,
   "metadata": {
    "collapsed": false
   },
   "outputs": [
    {
     "data": {
      "text/html": [
       "<div>\n",
       "<table border=\"1\" class=\"dataframe\">\n",
       "  <thead>\n",
       "    <tr style=\"text-align: right;\">\n",
       "      <th></th>\n",
       "      <th>indhac2</th>\n",
       "      <th>indhac3</th>\n",
       "    </tr>\n",
       "    <tr>\n",
       "      <th>Código</th>\n",
       "      <th></th>\n",
       "      <th></th>\n",
       "    </tr>\n",
       "  </thead>\n",
       "  <tbody>\n",
       "    <tr>\n",
       "      <th>02001</th>\n",
       "      <td>1.429665</td>\n",
       "      <td>1.192540</td>\n",
       "    </tr>\n",
       "    <tr>\n",
       "      <th>02002</th>\n",
       "      <td>1.081067</td>\n",
       "      <td>0.805423</td>\n",
       "    </tr>\n",
       "    <tr>\n",
       "      <th>02003</th>\n",
       "      <td>1.362607</td>\n",
       "      <td>1.119662</td>\n",
       "    </tr>\n",
       "    <tr>\n",
       "      <th>02004</th>\n",
       "      <td>1.474937</td>\n",
       "      <td>1.271931</td>\n",
       "    </tr>\n",
       "    <tr>\n",
       "      <th>02005</th>\n",
       "      <td>1.273984</td>\n",
       "      <td>0.988682</td>\n",
       "    </tr>\n",
       "  </tbody>\n",
       "</table>\n",
       "</div>"
      ],
      "text/plain": [
       "         indhac2   indhac3\n",
       "Código                    \n",
       "02001   1.429665  1.192540\n",
       "02002   1.081067  0.805423\n",
       "02003   1.362607  1.119662\n",
       "02004   1.474937  1.271931\n",
       "02005   1.273984  0.988682"
      ]
     },
     "execution_count": 269,
     "metadata": {},
     "output_type": "execute_result"
    }
   ],
   "source": [
    "df_indhacs.head()"
   ]
  },
  {
   "cell_type": "code",
   "execution_count": 270,
   "metadata": {
    "collapsed": true
   },
   "outputs": [],
   "source": [
    "df_depto[\"indhac2\"] = indhac2"
   ]
  },
  {
   "cell_type": "markdown",
   "metadata": {},
   "source": [
    "¿Vivís en una vivienda alquilada? ¿Qué porcentaje de personas creés que viven en una vivienda alquilada en tu comuna? ¿Y en la Ciudad de Buenos Aires?"
   ]
  },
  {
   "cell_type": "code",
   "execution_count": 271,
   "metadata": {
    "collapsed": false
   },
   "outputs": [],
   "source": [
    "# cantidad de población entre 15 y 18 años, que vive en una vivienda alquilada\n",
    "query_prop_joven_depto = pyredatam.arealist_query(\"DPTO\", \"HOGAR.PROP\", universe_filter=filtro_jovenes)\n",
    "df_prop_joven_depto = get_data(query_prop_joven_depto)"
   ]
  },
  {
   "cell_type": "code",
   "execution_count": 272,
   "metadata": {
    "collapsed": false
   },
   "outputs": [],
   "source": [
    "df_depto[\"propiedad\"] = df_prop_joven_depto[\"Inquilino\"] / df_prop_joven_depto[\"Total\"]"
   ]
  },
  {
   "cell_type": "markdown",
   "metadata": {},
   "source": [
    "### Por provincia/ciudad"
   ]
  },
  {
   "cell_type": "markdown",
   "metadata": {},
   "source": [
    "¿Cuántas personas duermen por cuarto en tu casa? ¿Cuántas personas creés que duermen por cuarto, en promedio, en tu comuna? ¿Y en la Ciudad de Buenos Aires?"
   ]
  },
  {
   "cell_type": "code",
   "execution_count": 273,
   "metadata": {
    "collapsed": true
   },
   "outputs": [],
   "source": [
    "# habitaciones\n",
    "query_habs_prov = pyredatam.arealist_query(\"PROV\", \"HOGAR.H15\")\n",
    "df_habs_prov = get_data(query_habs_prov)"
   ]
  },
  {
   "cell_type": "code",
   "execution_count": 274,
   "metadata": {
    "collapsed": true
   },
   "outputs": [],
   "source": [
    "# personas x hogar\n",
    "query_pers_hogar_prov = pyredatam.arealist_query(\"PROV\", \"HOGAR.TOTPERS\")\n",
    "df_pers_hogar_prov = get_data(query_pers_hogar_prov)"
   ]
  },
  {
   "cell_type": "code",
   "execution_count": 275,
   "metadata": {
    "collapsed": false
   },
   "outputs": [],
   "source": [
    "df_habs_prov_mul = df_habs_prov[df_habs_prov.columns[:-1]]"
   ]
  },
  {
   "cell_type": "code",
   "execution_count": 276,
   "metadata": {
    "collapsed": false
   },
   "outputs": [
    {
     "name": "stderr",
     "output_type": "stream",
     "text": [
      "/Users/abenassi/anaconda/envs/pyredatam/lib/python2.7/site-packages/ipykernel/__main__.py:2: SettingWithCopyWarning: \n",
      "A value is trying to be set on a copy of a slice from a DataFrame.\n",
      "Try using .loc[row_indexer,col_indexer] = value instead\n",
      "\n",
      "See the caveats in the documentation: http://pandas.pydata.org/pandas-docs/stable/indexing.html#indexing-view-versus-copy\n",
      "  from ipykernel import kernelapp as app\n"
     ]
    }
   ],
   "source": [
    "for i in range(1, 31):\n",
    "    df_habs_prov_mul[unicode(i)] = df_habs_prov_mul[unicode(i)] * i"
   ]
  },
  {
   "cell_type": "code",
   "execution_count": 277,
   "metadata": {
    "collapsed": false
   },
   "outputs": [],
   "source": [
    "cant_cuartos = df_habs_prov_mul.sum(axis=1)"
   ]
  },
  {
   "cell_type": "code",
   "execution_count": 278,
   "metadata": {
    "collapsed": true
   },
   "outputs": [],
   "source": [
    "cant_personas = df_pobl_prov.Total"
   ]
  },
  {
   "cell_type": "code",
   "execution_count": 279,
   "metadata": {
    "collapsed": false
   },
   "outputs": [],
   "source": [
    "indhac2 = cant_personas / cant_cuartos"
   ]
  },
  {
   "cell_type": "code",
   "execution_count": 280,
   "metadata": {
    "collapsed": false
   },
   "outputs": [],
   "source": [
    "# hacinamiento\n",
    "query_hac_prov = pyredatam.arealist_query(\"PROV\", \"HOGAR.INDHAC\")\n",
    "df_hac_prov = get_data(query_hac_prov)"
   ]
  },
  {
   "cell_type": "code",
   "execution_count": 281,
   "metadata": {
    "collapsed": false
   },
   "outputs": [
    {
     "name": "stderr",
     "output_type": "stream",
     "text": [
      "/Users/abenassi/anaconda/envs/pyredatam/lib/python2.7/site-packages/ipykernel/__main__.py:3: SettingWithCopyWarning: \n",
      "A value is trying to be set on a copy of a slice from a DataFrame.\n",
      "Try using .loc[row_indexer,col_indexer] = value instead\n",
      "\n",
      "See the caveats in the documentation: http://pandas.pydata.org/pandas-docs/stable/indexing.html#indexing-view-versus-copy\n",
      "  app.launch_new_instance()\n"
     ]
    }
   ],
   "source": [
    "df_hac_prov2 = df_hac_prov[df_hac_prov.columns[:-1]]\n",
    "for i, j in zip(range(0, 6), [0.25, 0.75, 1.25, 1.75, 2.5, 4.0]):\n",
    "    df_hac_prov2[df_hac_prov2.columns[i]] = df_hac_prov2[df_hac_prov2.columns[i]] * j"
   ]
  },
  {
   "cell_type": "code",
   "execution_count": 282,
   "metadata": {
    "collapsed": false
   },
   "outputs": [],
   "source": [
    "indhac3 = df_hac_prov2.sum(axis=1) / df_hac_prov.Total"
   ]
  },
  {
   "cell_type": "code",
   "execution_count": 283,
   "metadata": {
    "collapsed": true
   },
   "outputs": [],
   "source": [
    "df_indhacs = pd.DataFrame({\"indhac2\": indhac2, \"indhac3\": indhac3})"
   ]
  },
  {
   "cell_type": "code",
   "execution_count": 284,
   "metadata": {
    "collapsed": false
   },
   "outputs": [
    {
     "data": {
      "text/html": [
       "<div>\n",
       "<table border=\"1\" class=\"dataframe\">\n",
       "  <thead>\n",
       "    <tr style=\"text-align: right;\">\n",
       "      <th></th>\n",
       "      <th>indhac2</th>\n",
       "      <th>indhac3</th>\n",
       "    </tr>\n",
       "    <tr>\n",
       "      <th>Código</th>\n",
       "      <th></th>\n",
       "      <th></th>\n",
       "    </tr>\n",
       "  </thead>\n",
       "  <tbody>\n",
       "    <tr>\n",
       "      <th>02</th>\n",
       "      <td>1.274730</td>\n",
       "      <td>1.007657</td>\n",
       "    </tr>\n",
       "    <tr>\n",
       "      <th>06</th>\n",
       "      <td>1.528409</td>\n",
       "      <td>1.283741</td>\n",
       "    </tr>\n",
       "    <tr>\n",
       "      <th>10</th>\n",
       "      <td>1.551428</td>\n",
       "      <td>1.376618</td>\n",
       "    </tr>\n",
       "    <tr>\n",
       "      <th>14</th>\n",
       "      <td>1.448385</td>\n",
       "      <td>1.166431</td>\n",
       "    </tr>\n",
       "    <tr>\n",
       "      <th>18</th>\n",
       "      <td>1.639087</td>\n",
       "      <td>1.449928</td>\n",
       "    </tr>\n",
       "  </tbody>\n",
       "</table>\n",
       "</div>"
      ],
      "text/plain": [
       "         indhac2   indhac3\n",
       "Código                    \n",
       "02      1.274730  1.007657\n",
       "06      1.528409  1.283741\n",
       "10      1.551428  1.376618\n",
       "14      1.448385  1.166431\n",
       "18      1.639087  1.449928"
      ]
     },
     "execution_count": 284,
     "metadata": {},
     "output_type": "execute_result"
    }
   ],
   "source": [
    "df_indhacs.head()"
   ]
  },
  {
   "cell_type": "code",
   "execution_count": 285,
   "metadata": {
    "collapsed": true
   },
   "outputs": [],
   "source": [
    "df_prov[\"indhac2\"] = indhac2"
   ]
  },
  {
   "cell_type": "markdown",
   "metadata": {},
   "source": [
    "¿Vivís en una vivienda alquilada? ¿Qué porcentaje de personas creés que viven en una vivienda alquilada en tu comuna? ¿Y en la Ciudad de Buenos Aires?"
   ]
  },
  {
   "cell_type": "code",
   "execution_count": 286,
   "metadata": {
    "collapsed": false
   },
   "outputs": [],
   "source": [
    "# cantidad de población entre 15 y 18 años, que vive en una vivienda alquilada\n",
    "query_prop_joven_prov = pyredatam.arealist_query(\"PROV\", \"HOGAR.PROP\", universe_filter=filtro_jovenes)\n",
    "df_prop_joven_prov = get_data(query_prop_joven_prov)"
   ]
  },
  {
   "cell_type": "code",
   "execution_count": 287,
   "metadata": {
    "collapsed": false
   },
   "outputs": [],
   "source": [
    "df_prov[\"propiedad\"] = df_prop_joven_prov[\"Inquilino\"] / df_prop_joven_prov[\"Total\"]"
   ]
  },
  {
   "cell_type": "markdown",
   "metadata": {
    "collapsed": true
   },
   "source": [
    "## Dumps de la data"
   ]
  },
  {
   "cell_type": "code",
   "execution_count": 288,
   "metadata": {
    "collapsed": false
   },
   "outputs": [],
   "source": [
    "df_prov = df_prov.merge(provincias, how=\"left\", right_index=True, left_index=True)\n",
    "df_prov.index.set_names(\"provincia_id\", inplace=True)"
   ]
  },
  {
   "cell_type": "code",
   "execution_count": 289,
   "metadata": {
    "collapsed": true
   },
   "outputs": [],
   "source": [
    "df_depto = df_depto.merge(departamentos.drop_duplicates(), how=\"left\", right_index=True, left_index=True)\n",
    "df_depto.drop([\"94021\", \"94028\"], inplace=True)\n",
    "df_depto.index.set_names(\"departamento_id\", inplace=True)\n",
    "df_depto[\"provincia_id\"] = df_depto.index.str[:2]"
   ]
  },
  {
   "cell_type": "code",
   "execution_count": 297,
   "metadata": {
    "collapsed": false
   },
   "outputs": [],
   "source": [
    "rename_cols = {\"jovenes\": \"jovenes_proporcion\", \n",
    "               \"jovenes_asistencia\": \"jovenes_asistencia_escolar\",\n",
    "              \"indhac2\": \"personas_por_cuarto\",\n",
    "              \"propiedad\": \"propietarios_vivienda_proporcion\"}\n",
    "df_prov.rename(columns=rename_cols, inplace=True)\n",
    "df_depto.rename(columns=rename_cols, inplace=True)"
   ]
  },
  {
   "cell_type": "code",
   "execution_count": 298,
   "metadata": {
    "collapsed": false
   },
   "outputs": [],
   "source": [
    "df_prov.to_excel(\"indicadores/indicadores_provincia.xlsx\", index_label=\"provincia_id\")\n",
    "df_depto.to_excel(\"indicadores/indicadores_departamento.xlsx\", index_label=\"departamento_id\")"
   ]
  },
  {
   "cell_type": "code",
   "execution_count": 299,
   "metadata": {
    "collapsed": true
   },
   "outputs": [],
   "source": [
    "df_prov.to_csv(\"indicadores/indicadores_provincia.csv\", index_label=\"provincia_id\", encoding=\"utf8\")\n",
    "df_depto.to_csv(\"indicadores/indicadores_departamento.csv\", index_label=\"departamento_id\", encoding=\"utf8\")"
   ]
  },
  {
   "cell_type": "code",
   "execution_count": null,
   "metadata": {
    "collapsed": true
   },
   "outputs": [],
   "source": []
  }
 ],
 "metadata": {
  "anaconda-cloud": {},
  "kernelspec": {
   "display_name": "Python [pyredatam]",
   "language": "python",
   "name": "Python [pyredatam]"
  },
  "language_info": {
   "codemirror_mode": {
    "name": "ipython",
    "version": 2
   },
   "file_extension": ".py",
   "mimetype": "text/x-python",
   "name": "python",
   "nbconvert_exporter": "python",
   "pygments_lexer": "ipython2",
   "version": "2.7.12"
  }
 },
 "nbformat": 4,
 "nbformat_minor": 1
}
