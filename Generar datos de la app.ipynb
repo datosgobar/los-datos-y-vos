{
 "cells": [
  {
   "cell_type": "markdown",
   "metadata": {},
   "source": [
    "# Genero indicadores censales para la app"
   ]
  },
  {
   "cell_type": "code",
   "execution_count": 17,
   "metadata": {
    "collapsed": true
   },
   "outputs": [],
   "source": [
    "from __future__ import unicode_literals\n",
    "import pyredatam\n",
    "import pandas as pd"
   ]
  },
  {
   "cell_type": "code",
   "execution_count": 13,
   "metadata": {
    "collapsed": true
   },
   "outputs": [],
   "source": [
    "filtro_jovenes = \"PERSONA.P03 >= 15 AND PERSONA.P03 <= 18\""
   ]
  },
  {
   "cell_type": "markdown",
   "metadata": {},
   "source": [
    "## Bloque 1"
   ]
  },
  {
   "cell_type": "markdown",
   "metadata": {},
   "source": [
    "### Por departamento/comuna"
   ]
  },
  {
   "cell_type": "markdown",
   "metadata": {},
   "source": [
    "¿Qué porcentaje de chicos de 15 a 18 años pensás que vive en tu comuna? ¿Y en la Ciudad de Buenos Aires?"
   ]
  },
  {
   "cell_type": "code",
   "execution_count": 34,
   "metadata": {
    "collapsed": true
   },
   "outputs": [],
   "source": [
    "# cantidad de población total, por género\n",
    "query_pobl_depto = pyredatam.arealist_query(\"DPTO\", \"PERSONA.P02\")\n",
    "df_pobl_depto = pyredatam.cpv2010arg.make_arealist_query(query_pobl_depto)\n",
    "df_pobl_depto.set_index(\"Código\", inplace=True)"
   ]
  },
  {
   "cell_type": "code",
   "execution_count": 35,
   "metadata": {
    "collapsed": false
   },
   "outputs": [],
   "source": [
    "# cantidad de población entre 15 y 18 años, por género\n",
    "query_pobl_joven_depto = pyredatam.arealist_query(\n",
    "    \"DPTO\", \"PERSONA.P02\", universe_filter=filtro_jovenes)\n",
    "df_pobl_joven_depto = pyredatam.cpv2010arg.make_arealist_query(query_pobl_joven_depto)\n",
    "df_pobl_joven_depto.set_index(\"Código\", inplace=True)"
   ]
  },
  {
   "cell_type": "code",
   "execution_count": 37,
   "metadata": {
    "collapsed": false
   },
   "outputs": [],
   "source": [
    "df_depto = pd.DataFrame(index=df_pobl_depto.index)\n",
    "df_depto[\"jovenes\"] = df_pobl_joven_depto[\"Total\"] / df_pobl_depto[\"Total\"]"
   ]
  },
  {
   "cell_type": "markdown",
   "metadata": {},
   "source": [
    "¿Qué porcentaje de chicos de 15 a 18 años pensás que asisten a la escuela en tu comuna? ¿Y en la Ciudad de Buenos Aires?"
   ]
  },
  {
   "cell_type": "code",
   "execution_count": 40,
   "metadata": {
    "collapsed": false
   },
   "outputs": [],
   "source": [
    "# cantidad de población entre 15 y 18 años, por asistencia escolar\n",
    "query_asiste_joven_depto = pyredatam.arealist_query(\"DPTO\", \"PERSONA.P08\", universe_filter=filtro_jovenes)\n",
    "df_asiste_joven_depto = pyredatam.cpv2010arg.make_arealist_query(query_asiste_joven_depto)\n",
    "df_asiste_joven_depto.set_index(\"Código\", inplace=True)"
   ]
  },
  {
   "cell_type": "code",
   "execution_count": 42,
   "metadata": {
    "collapsed": true
   },
   "outputs": [],
   "source": [
    "df_depto[\"jovenes_asistencia\"] = df_asiste_joven_depto[\"Asiste\"] / df_pobl_joven_depto[\"Total\"]"
   ]
  },
  {
   "cell_type": "markdown",
   "metadata": {},
   "source": [
    "### Por provincia/ciudad"
   ]
  },
  {
   "cell_type": "markdown",
   "metadata": {},
   "source": [
    "¿Qué porcentaje de chicos de 15 a 18 años pensás que vive en tu comuna? ¿Y en la Ciudad de Buenos Aires?"
   ]
  },
  {
   "cell_type": "code",
   "execution_count": 44,
   "metadata": {
    "collapsed": true
   },
   "outputs": [],
   "source": [
    "# cantidad de población total, por género\n",
    "query_pobl_prov = pyredatam.arealist_query(\"PROV\", \"PERSONA.P02\")\n",
    "df_pobl_prov = pyredatam.cpv2010arg.make_arealist_query(query_pobl_prov)\n",
    "df_pobl_prov.set_index(\"Código\", inplace=True)"
   ]
  },
  {
   "cell_type": "code",
   "execution_count": 45,
   "metadata": {
    "collapsed": false
   },
   "outputs": [],
   "source": [
    "# cantidad de población entre 15 y 18 años, por género\n",
    "query_pobl_joven_prov = pyredatam.arealist_query(\n",
    "    \"PROV\", \"PERSONA.P02\", universe_filter=filtro_jovenes)\n",
    "df_pobl_joven_prov = pyredatam.cpv2010arg.make_arealist_query(query_pobl_joven_prov)\n",
    "df_pobl_joven_prov.set_index(\"Código\", inplace=True)"
   ]
  },
  {
   "cell_type": "code",
   "execution_count": 61,
   "metadata": {
    "collapsed": false
   },
   "outputs": [],
   "source": [
    "df_prov = pd.DataFrame(index=df_pobl_prov.index)\n",
    "df_prov[\"jovenes\"] = df_pobl_joven_prov[\"Total\"] / df_pobl_prov[\"Total\"]"
   ]
  },
  {
   "cell_type": "markdown",
   "metadata": {},
   "source": [
    "¿Qué porcentaje de chicos de 15 a 18 años pensás que asisten a la escuela en tu comuna? ¿Y en la Ciudad de Buenos Aires?"
   ]
  },
  {
   "cell_type": "code",
   "execution_count": 47,
   "metadata": {
    "collapsed": false
   },
   "outputs": [],
   "source": [
    "# cantidad de población entre 15 y 18 años, por asistencia escolar\n",
    "query_asiste_joven_prov = pyredatam.arealist_query(\"PROV\", \"PERSONA.P08\", universe_filter=filtro_jovenes)\n",
    "df_asiste_joven_prov = pyredatam.cpv2010arg.make_arealist_query(query_asiste_joven_prov)\n",
    "df_asiste_joven_prov.set_index(\"Código\", inplace=True)"
   ]
  },
  {
   "cell_type": "code",
   "execution_count": 62,
   "metadata": {
    "collapsed": true
   },
   "outputs": [],
   "source": [
    "df_prov[\"jovenes_asistencia\"] = df_asiste_joven_prov[\"Asiste\"] / df_pobl_joven_prov[\"Total\"]"
   ]
  },
  {
   "cell_type": "markdown",
   "metadata": {},
   "source": [
    "## Bloque 2"
   ]
  },
  {
   "cell_type": "markdown",
   "metadata": {},
   "source": [
    "### Por departamento/comuna"
   ]
  },
  {
   "cell_type": "markdown",
   "metadata": {},
   "source": [
    "¿Cuántas personas duermen por cuarto en tu casa? ¿Cuántas personas creés que duermen por cuarto, en promedio, en tu comuna? ¿Y en la Ciudad de Buenos Aires?"
   ]
  },
  {
   "cell_type": "code",
   "execution_count": 87,
   "metadata": {
    "collapsed": true
   },
   "outputs": [],
   "source": [
    "query = \"\"\"\n",
    "RUNDEF Job\n",
    "\n",
    "DEFINE HOGAR.TOTPERS2\n",
    "AS COUNT PERSONA\n",
    "TYPE REAL\n",
    "RANGE 0-200\n",
    "VARLABEL \"Cantidad de personas por hogar\"\n",
    "DECIMALS 2\n",
    "\n",
    "DEFINE HOGAR.INDHAC2\n",
    "AS (HOGAR.TOTPERS2 / HOGAR.H15)\n",
    "TYPE REAL\n",
    "RANGE 0-200\n",
    "VARLABEL \"Indice de hacinamiento\"\n",
    "DECIMALS 2\n",
    "\n",
    "TABLE TABLE1\n",
    "    AS AREALIST\n",
    "    OF DPTO, HOGAR.INDHAC2\n",
    "\"\"\""
   ]
  },
  {
   "cell_type": "code",
   "execution_count": 70,
   "metadata": {
    "collapsed": true
   },
   "outputs": [],
   "source": [
    "# habitaciones\n",
    "query_habs_depto = pyredatam.arealist_query(\"DPTO\", \"HOGAR.H15\")\n",
    "df_habs_depto = pyredatam.cpv2010arg.make_arealist_query(query_habs_depto)\n",
    "df_habs_depto.set_index(\"Código\", inplace=True)"
   ]
  },
  {
   "cell_type": "code",
   "execution_count": 78,
   "metadata": {
    "collapsed": true
   },
   "outputs": [],
   "source": [
    "# personas x hogar\n",
    "query_pers_hogar_depto = pyredatam.arealist_query(\"DPTO\", \"HOGAR.TOTPERS\")\n",
    "df_pers_hogar_depto = pyredatam.cpv2010arg.make_arealist_query(query_pers_hogar_depto)\n",
    "df_pers_hogar_depto.set_index(\"Código\", inplace=True)"
   ]
  },
  {
   "cell_type": "code",
   "execution_count": 105,
   "metadata": {
    "collapsed": true
   },
   "outputs": [],
   "source": [
    "df_habs_depto_mul = df_habs_depto[cant_cuartos]"
   ]
  },
  {
   "cell_type": "code",
   "execution_count": 115,
   "metadata": {
    "collapsed": false
   },
   "outputs": [
    {
     "name": "stderr",
     "output_type": "stream",
     "text": [
      "/Users/abenassi/anaconda/envs/pyredatam/lib/python2.7/site-packages/ipykernel/__main__.py:2: SettingWithCopyWarning: \n",
      "A value is trying to be set on a copy of a slice from a DataFrame.\n",
      "Try using .loc[row_indexer,col_indexer] = value instead\n",
      "\n",
      "See the caveats in the documentation: http://pandas.pydata.org/pandas-docs/stable/indexing.html#indexing-view-versus-copy\n",
      "  from ipykernel import kernelapp as app\n"
     ]
    }
   ],
   "source": [
    "for i in range(1, 31):\n",
    "    df_habs_depto_mul[unicode(i)] = df_habs_depto_mul[unicode(i)] * i"
   ]
  },
  {
   "cell_type": "code",
   "execution_count": 120,
   "metadata": {
    "collapsed": false
   },
   "outputs": [],
   "source": [
    "cant_cuartos = df_habs_depto_mul.sum(axis=1)"
   ]
  },
  {
   "cell_type": "code",
   "execution_count": 123,
   "metadata": {
    "collapsed": true
   },
   "outputs": [],
   "source": [
    "cant_personas = df_pobl_depto.Total"
   ]
  },
  {
   "cell_type": "code",
   "execution_count": 125,
   "metadata": {
    "collapsed": false
   },
   "outputs": [],
   "source": [
    "indhac2 = cant_personas / cant_cuartos"
   ]
  },
  {
   "cell_type": "code",
   "execution_count": 82,
   "metadata": {
    "collapsed": false
   },
   "outputs": [],
   "source": [
    "# hacinamiento\n",
    "query_hac_depto = pyredatam.arealist_query(\"DPTO\", \"HOGAR.INDHAC\")\n",
    "df_hac_depto = pyredatam.cpv2010arg.make_arealist_query(query_hac_depto)\n",
    "df_hac_depto.set_index(\"Código\", inplace=True)"
   ]
  },
  {
   "cell_type": "code",
   "execution_count": 156,
   "metadata": {
    "collapsed": false
   },
   "outputs": [
    {
     "name": "stderr",
     "output_type": "stream",
     "text": [
      "/Users/abenassi/anaconda/envs/pyredatam/lib/python2.7/site-packages/ipykernel/__main__.py:3: SettingWithCopyWarning: \n",
      "A value is trying to be set on a copy of a slice from a DataFrame.\n",
      "Try using .loc[row_indexer,col_indexer] = value instead\n",
      "\n",
      "See the caveats in the documentation: http://pandas.pydata.org/pandas-docs/stable/indexing.html#indexing-view-versus-copy\n",
      "  app.launch_new_instance()\n"
     ]
    }
   ],
   "source": [
    "df_hac_depto2 = df_hac_depto[df_hac_depto.columns[:-1]]\n",
    "for i, j in zip(range(0, 6), [0.25, 0.75, 1.25, 1.75, 2.5, 4.0]):\n",
    "    df_hac_depto2[df_hac_depto2.columns[i]] = df_hac_depto2[df_hac_depto2.columns[i]] * j"
   ]
  },
  {
   "cell_type": "code",
   "execution_count": 157,
   "metadata": {
    "collapsed": false
   },
   "outputs": [],
   "source": [
    "indhac3 = df_hac_depto2.sum(axis=1) / df_hac_depto.Total"
   ]
  },
  {
   "cell_type": "code",
   "execution_count": 158,
   "metadata": {
    "collapsed": true
   },
   "outputs": [],
   "source": [
    "df_indhacs = pd.DataFrame({\"indhac2\": indhac2, \"indhac3\": indhac3})"
   ]
  },
  {
   "cell_type": "code",
   "execution_count": 160,
   "metadata": {
    "collapsed": false
   },
   "outputs": [
    {
     "data": {
      "text/html": [
       "<div>\n",
       "<table border=\"1\" class=\"dataframe\">\n",
       "  <thead>\n",
       "    <tr style=\"text-align: right;\">\n",
       "      <th></th>\n",
       "      <th>indhac2</th>\n",
       "      <th>indhac3</th>\n",
       "    </tr>\n",
       "    <tr>\n",
       "      <th>Código</th>\n",
       "      <th></th>\n",
       "      <th></th>\n",
       "    </tr>\n",
       "  </thead>\n",
       "  <tbody>\n",
       "    <tr>\n",
       "      <th>02001</th>\n",
       "      <td>1.429665</td>\n",
       "      <td>1.192540</td>\n",
       "    </tr>\n",
       "    <tr>\n",
       "      <th>02002</th>\n",
       "      <td>1.081067</td>\n",
       "      <td>0.805423</td>\n",
       "    </tr>\n",
       "    <tr>\n",
       "      <th>02003</th>\n",
       "      <td>1.362607</td>\n",
       "      <td>1.119662</td>\n",
       "    </tr>\n",
       "    <tr>\n",
       "      <th>02004</th>\n",
       "      <td>1.474937</td>\n",
       "      <td>1.271931</td>\n",
       "    </tr>\n",
       "    <tr>\n",
       "      <th>02005</th>\n",
       "      <td>1.273984</td>\n",
       "      <td>0.988682</td>\n",
       "    </tr>\n",
       "  </tbody>\n",
       "</table>\n",
       "</div>"
      ],
      "text/plain": [
       "         indhac2   indhac3\n",
       "Código                    \n",
       "02001   1.429665  1.192540\n",
       "02002   1.081067  0.805423\n",
       "02003   1.362607  1.119662\n",
       "02004   1.474937  1.271931\n",
       "02005   1.273984  0.988682"
      ]
     },
     "execution_count": 160,
     "metadata": {},
     "output_type": "execute_result"
    }
   ],
   "source": [
    "df_indhacs.head()"
   ]
  },
  {
   "cell_type": "code",
   "execution_count": null,
   "metadata": {
    "collapsed": true
   },
   "outputs": [],
   "source": [
    "df_depto[\"indhac2\"] = indhac2"
   ]
  },
  {
   "cell_type": "code",
   "execution_count": 35,
   "metadata": {
    "collapsed": false
   },
   "outputs": [],
   "source": [
    "# cantidad de población entre 15 y 18 años, por género\n",
    "query_pobl_joven_depto = pyredatam.arealist_query(\n",
    "    \"DPTO\", \"PERSONA.P02\", universe_filter=filtro_jovenes)\n",
    "df_pobl_joven_depto = pyredatam.cpv2010arg.make_arealist_query(query_pobl_joven_depto)\n",
    "df_pobl_joven_depto.set_index(\"Código\", inplace=True)"
   ]
  },
  {
   "cell_type": "code",
   "execution_count": 37,
   "metadata": {
    "collapsed": false
   },
   "outputs": [],
   "source": [
    "df_depto = pd.DataFrame(index=df_pobl_depto.index)\n",
    "df_depto[\"jovenes\"] = df_pobl_joven_depto[\"Total\"] / df_pobl_depto[\"Total\"]"
   ]
  },
  {
   "cell_type": "markdown",
   "metadata": {},
   "source": [
    "¿Vivís en una vivienda alquilada? ¿Qué porcentaje de personas creés que viven en una vivienda alquilada en tu comuna? ¿Y en la Ciudad de Buenos Aires?"
   ]
  },
  {
   "cell_type": "code",
   "execution_count": 40,
   "metadata": {
    "collapsed": false
   },
   "outputs": [],
   "source": [
    "# cantidad de población entre 15 y 18 años, por asistencia escolar\n",
    "query_asiste_joven_depto = pyredatam.arealist_query(\"DPTO\", \"PERSONA.P08\", universe_filter=filtro_jovenes)\n",
    "df_asiste_joven_depto = pyredatam.cpv2010arg.make_arealist_query(query_asiste_joven_depto)\n",
    "df_asiste_joven_depto.set_index(\"Código\", inplace=True)"
   ]
  },
  {
   "cell_type": "code",
   "execution_count": 42,
   "metadata": {
    "collapsed": true
   },
   "outputs": [],
   "source": [
    "df_depto[\"jovenes_asistencia\"] = df_asiste_joven_depto[\"Asiste\"] / df_pobl_joven_depto[\"Total\"]"
   ]
  },
  {
   "cell_type": "markdown",
   "metadata": {},
   "source": [
    "### Por provincia/ciudad"
   ]
  },
  {
   "cell_type": "markdown",
   "metadata": {},
   "source": [
    "¿Cuántas personas duermen por cuarto en tu casa? ¿Cuántas personas creés que duermen por cuarto, en promedio, en tu comuna? ¿Y en la Ciudad de Buenos Aires?"
   ]
  },
  {
   "cell_type": "code",
   "execution_count": 44,
   "metadata": {
    "collapsed": true
   },
   "outputs": [],
   "source": [
    "# cantidad de población total, por género\n",
    "query_pobl_prov = pyredatam.arealist_query(\"PROV\", \"PERSONA.P02\")\n",
    "df_pobl_prov = pyredatam.cpv2010arg.make_arealist_query(query_pobl_prov)\n",
    "df_pobl_prov.set_index(\"Código\", inplace=True)"
   ]
  },
  {
   "cell_type": "code",
   "execution_count": 45,
   "metadata": {
    "collapsed": false
   },
   "outputs": [],
   "source": [
    "# cantidad de población entre 15 y 18 años, por género\n",
    "query_pobl_joven_prov = pyredatam.arealist_query(\n",
    "    \"PROV\", \"PERSONA.P02\", universe_filter=filtro_jovenes)\n",
    "df_pobl_joven_prov = pyredatam.cpv2010arg.make_arealist_query(query_pobl_joven_prov)\n",
    "df_pobl_joven_prov.set_index(\"Código\", inplace=True)"
   ]
  },
  {
   "cell_type": "code",
   "execution_count": 58,
   "metadata": {
    "collapsed": false
   },
   "outputs": [],
   "source": [
    "df_prov = pd.DataFrame(index=df_pobl_prov.index)\n",
    "df_prov[\"jovenes\"] = df_pobl_joven_prov[\"Total\"] / df_pobl_prov[\"Total\"]"
   ]
  },
  {
   "cell_type": "markdown",
   "metadata": {},
   "source": [
    "¿Vivís en una vivienda alquilada? ¿Qué porcentaje de personas creés que viven en una vivienda alquilada en tu comuna? ¿Y en la Ciudad de Buenos Aires?"
   ]
  },
  {
   "cell_type": "code",
   "execution_count": 47,
   "metadata": {
    "collapsed": false
   },
   "outputs": [],
   "source": [
    "# cantidad de población entre 15 y 18 años, por asistencia escolar\n",
    "query_asiste_joven_prov = pyredatam.arealist_query(\"PROV\", \"PERSONA.P08\", universe_filter=filtro_jovenes)\n",
    "df_asiste_joven_prov = pyredatam.cpv2010arg.make_arealist_query(query_asiste_joven_prov)\n",
    "df_asiste_joven_prov.set_index(\"Código\", inplace=True)"
   ]
  },
  {
   "cell_type": "code",
   "execution_count": 59,
   "metadata": {
    "collapsed": true
   },
   "outputs": [],
   "source": [
    "df_prov[\"jovenes_asistencia\"] = df_asiste_joven_prov[\"Asiste\"] / df_pobl_joven_prov[\"Total\"]"
   ]
  },
  {
   "cell_type": "code",
   "execution_count": 60,
   "metadata": {
    "collapsed": false
   },
   "outputs": [
    {
     "data": {
      "text/html": [
       "<div>\n",
       "<table border=\"1\" class=\"dataframe\">\n",
       "  <thead>\n",
       "    <tr style=\"text-align: right;\">\n",
       "      <th></th>\n",
       "      <th>jovenes</th>\n",
       "      <th>jovenes_asistencia</th>\n",
       "    </tr>\n",
       "    <tr>\n",
       "      <th>Código</th>\n",
       "      <th></th>\n",
       "      <th></th>\n",
       "    </tr>\n",
       "  </thead>\n",
       "  <tbody>\n",
       "    <tr>\n",
       "      <th>02</th>\n",
       "      <td>0.044348</td>\n",
       "      <td>0.858402</td>\n",
       "    </tr>\n",
       "    <tr>\n",
       "      <th>06</th>\n",
       "      <td>0.067054</td>\n",
       "      <td>0.780476</td>\n",
       "    </tr>\n",
       "    <tr>\n",
       "      <th>10</th>\n",
       "      <td>0.082318</td>\n",
       "      <td>0.793058</td>\n",
       "    </tr>\n",
       "    <tr>\n",
       "      <th>14</th>\n",
       "      <td>0.067960</td>\n",
       "      <td>0.728569</td>\n",
       "    </tr>\n",
       "    <tr>\n",
       "      <th>18</th>\n",
       "      <td>0.084564</td>\n",
       "      <td>0.719400</td>\n",
       "    </tr>\n",
       "    <tr>\n",
       "      <th>22</th>\n",
       "      <td>0.087715</td>\n",
       "      <td>0.675677</td>\n",
       "    </tr>\n",
       "    <tr>\n",
       "      <th>26</th>\n",
       "      <td>0.072130</td>\n",
       "      <td>0.802789</td>\n",
       "    </tr>\n",
       "    <tr>\n",
       "      <th>30</th>\n",
       "      <td>0.072995</td>\n",
       "      <td>0.724613</td>\n",
       "    </tr>\n",
       "    <tr>\n",
       "      <th>34</th>\n",
       "      <td>0.092372</td>\n",
       "      <td>0.749040</td>\n",
       "    </tr>\n",
       "    <tr>\n",
       "      <th>38</th>\n",
       "      <td>0.086700</td>\n",
       "      <td>0.808038</td>\n",
       "    </tr>\n",
       "    <tr>\n",
       "      <th>42</th>\n",
       "      <td>0.070371</td>\n",
       "      <td>0.747249</td>\n",
       "    </tr>\n",
       "    <tr>\n",
       "      <th>46</th>\n",
       "      <td>0.085760</td>\n",
       "      <td>0.767309</td>\n",
       "    </tr>\n",
       "    <tr>\n",
       "      <th>50</th>\n",
       "      <td>0.072652</td>\n",
       "      <td>0.754520</td>\n",
       "    </tr>\n",
       "    <tr>\n",
       "      <th>54</th>\n",
       "      <td>0.088426</td>\n",
       "      <td>0.662598</td>\n",
       "    </tr>\n",
       "    <tr>\n",
       "      <th>58</th>\n",
       "      <td>0.075327</td>\n",
       "      <td>0.788441</td>\n",
       "    </tr>\n",
       "    <tr>\n",
       "      <th>62</th>\n",
       "      <td>0.075360</td>\n",
       "      <td>0.771069</td>\n",
       "    </tr>\n",
       "    <tr>\n",
       "      <th>66</th>\n",
       "      <td>0.086403</td>\n",
       "      <td>0.752618</td>\n",
       "    </tr>\n",
       "    <tr>\n",
       "      <th>70</th>\n",
       "      <td>0.076025</td>\n",
       "      <td>0.726037</td>\n",
       "    </tr>\n",
       "    <tr>\n",
       "      <th>74</th>\n",
       "      <td>0.074805</td>\n",
       "      <td>0.740777</td>\n",
       "    </tr>\n",
       "    <tr>\n",
       "      <th>78</th>\n",
       "      <td>0.071396</td>\n",
       "      <td>0.837628</td>\n",
       "    </tr>\n",
       "    <tr>\n",
       "      <th>82</th>\n",
       "      <td>0.066958</td>\n",
       "      <td>0.709593</td>\n",
       "    </tr>\n",
       "    <tr>\n",
       "      <th>86</th>\n",
       "      <td>0.084501</td>\n",
       "      <td>0.613589</td>\n",
       "    </tr>\n",
       "    <tr>\n",
       "      <th>90</th>\n",
       "      <td>0.077939</td>\n",
       "      <td>0.726094</td>\n",
       "    </tr>\n",
       "    <tr>\n",
       "      <th>94</th>\n",
       "      <td>0.074761</td>\n",
       "      <td>0.898212</td>\n",
       "    </tr>\n",
       "  </tbody>\n",
       "</table>\n",
       "</div>"
      ],
      "text/plain": [
       "         jovenes  jovenes_asistencia\n",
       "Código                              \n",
       "02      0.044348            0.858402\n",
       "06      0.067054            0.780476\n",
       "10      0.082318            0.793058\n",
       "14      0.067960            0.728569\n",
       "18      0.084564            0.719400\n",
       "22      0.087715            0.675677\n",
       "26      0.072130            0.802789\n",
       "30      0.072995            0.724613\n",
       "34      0.092372            0.749040\n",
       "38      0.086700            0.808038\n",
       "42      0.070371            0.747249\n",
       "46      0.085760            0.767309\n",
       "50      0.072652            0.754520\n",
       "54      0.088426            0.662598\n",
       "58      0.075327            0.788441\n",
       "62      0.075360            0.771069\n",
       "66      0.086403            0.752618\n",
       "70      0.076025            0.726037\n",
       "74      0.074805            0.740777\n",
       "78      0.071396            0.837628\n",
       "82      0.066958            0.709593\n",
       "86      0.084501            0.613589\n",
       "90      0.077939            0.726094\n",
       "94      0.074761            0.898212"
      ]
     },
     "execution_count": 60,
     "metadata": {},
     "output_type": "execute_result"
    }
   ],
   "source": [
    "df_prov"
   ]
  },
  {
   "cell_type": "code",
   "execution_count": null,
   "metadata": {
    "collapsed": true
   },
   "outputs": [],
   "source": []
  }
 ],
 "metadata": {
  "kernelspec": {
   "display_name": "Python 2",
   "language": "python",
   "name": "python2"
  },
  "language_info": {
   "codemirror_mode": {
    "name": "ipython",
    "version": 2
   },
   "file_extension": ".py",
   "mimetype": "text/x-python",
   "name": "python",
   "nbconvert_exporter": "python",
   "pygments_lexer": "ipython2",
   "version": "2.7.12"
  }
 },
 "nbformat": 4,
 "nbformat_minor": 1
}
